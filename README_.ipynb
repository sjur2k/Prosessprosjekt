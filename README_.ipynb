{
 "cells": [
  {
   "cell_type": "markdown",
   "id": "64c36fd7",
   "metadata": {},
   "source": [
    "# Prosessprosjekt\n",
    "\n",
    "## Tilnærming eller ikke?\n",
    "Ved utregning av massefraksjoner for væskefase i strøm 3-7, er det mulig å sette flagget `shoud_use_approximation`.  \n",
    "Dette bestemmer om simulatoren bruker antagelsen $m^i_{MEA} \\gg m^i_{CO_2}$ eller ikke for strømmene nevnt ovenfor.\n"
   ]
  }
 ],
 "metadata": {},
 "nbformat": 4,
 "nbformat_minor": 5
}
