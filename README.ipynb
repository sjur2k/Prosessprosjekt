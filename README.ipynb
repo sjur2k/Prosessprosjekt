# Prosessprosjekt

## Tilnærming eller ikke?
Ved utregning av massefraksjoner for væskefase i strøm 3-7, er det mulig å sette flag `shoud_use_approximation`.  
Dette vil resultere i at man enten bruker $w_{MEA}$ konstant lik 0.3 osv  
eller om man ikke antar $m^i_{MEA} \gg m^i_{CO_2}$ for strømmene nevnt ovenfor.
