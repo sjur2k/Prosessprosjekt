{
 "cells": [
  {
   "cell_type": "markdown",
   "id": "64c36fd7",
   "metadata": {},
   "source": [
    "# Prosessprosjekt\n",
    "\n",
    "## Tilnærming eller ikke?\n",
    "Ved utregning av massefraksjoner for væskefase i strøm 3-7, er det mulig å sette flag `shoud_use_approximation`.  \n",
    "Dette vil resultere i at man enten bruker $w_{MEA}$ konstant lik 0.3 osv  \n",
    "eller om man ikke antar $m^i_{MEA} \\gg m^i_{CO_2}$ for strømmene nevnt ovenfor.\n"
   ]
  }
 ],
 "metadata": {},
 "nbformat": 4,
 "nbformat_minor": 5
}
